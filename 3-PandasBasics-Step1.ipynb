{
 "cells": [
  {
   "cell_type": "code",
   "execution_count": 1,
   "id": "ba89312f-dd76-4eac-bddf-fc72a0bee4dd",
   "metadata": {},
   "outputs": [],
   "source": [
    "# Step1. 모듈 임포트 및 객체 생성"
   ]
  },
  {
   "cell_type": "code",
   "execution_count": 2,
   "id": "bf7ff2f3-6be3-4494-ac04-b8cecc35f8fc",
   "metadata": {},
   "outputs": [],
   "source": [
    "import numpy as np\n",
    "import pandas as pd"
   ]
  },
  {
   "cell_type": "code",
   "execution_count": null,
   "id": "46d1412a-0e24-47a7-8a4a-2bbec689cc74",
   "metadata": {},
   "outputs": [],
   "source": []
  },
  {
   "cell_type": "code",
   "execution_count": 3,
   "id": "07a44a9c-a452-4f61-bf1a-c49b6677bd90",
   "metadata": {},
   "outputs": [],
   "source": [
    "## Series()"
   ]
  },
  {
   "cell_type": "code",
   "execution_count": 4,
   "id": "c217de83-07e8-413f-bd23-5464bcbbd76b",
   "metadata": {},
   "outputs": [],
   "source": [
    "s = pd.Series([1, 3, 5, np.nan, 6, 8])"
   ]
  },
  {
   "cell_type": "code",
   "execution_count": 5,
   "id": "4b02c275-9cba-459a-80ba-824306477504",
   "metadata": {},
   "outputs": [
    {
     "name": "stdout",
     "output_type": "stream",
     "text": [
      "0    1.0\n",
      "1    3.0\n",
      "2    5.0\n",
      "3    NaN\n",
      "4    6.0\n",
      "5    8.0\n",
      "dtype: float64\n"
     ]
    }
   ],
   "source": [
    "print(s)"
   ]
  },
  {
   "cell_type": "code",
   "execution_count": null,
   "id": "623307c9-af4e-4637-9430-43c4a980cbd3",
   "metadata": {},
   "outputs": [],
   "source": []
  },
  {
   "cell_type": "code",
   "execution_count": 6,
   "id": "bb1c212e-3611-4500-8715-e48afe278e49",
   "metadata": {},
   "outputs": [],
   "source": [
    "## date_range()"
   ]
  },
  {
   "cell_type": "code",
   "execution_count": 7,
   "id": "c4694b12-9704-4b81-93c0-06a94b0e9cd6",
   "metadata": {},
   "outputs": [],
   "source": [
    "dates = pd.date_range('20190101', periods=6)"
   ]
  },
  {
   "cell_type": "code",
   "execution_count": 8,
   "id": "dfc188c7-0389-42d6-9bbf-9d3ec1eeea7d",
   "metadata": {},
   "outputs": [
    {
     "name": "stdout",
     "output_type": "stream",
     "text": [
      "DatetimeIndex(['2019-01-01', '2019-01-02', '2019-01-03', '2019-01-04',\n",
      "               '2019-01-05', '2019-01-06'],\n",
      "              dtype='datetime64[ns]', freq='D')\n"
     ]
    }
   ],
   "source": [
    "print(dates)"
   ]
  },
  {
   "cell_type": "code",
   "execution_count": null,
   "id": "031fb427-2098-42ce-bfb5-0884b2db0970",
   "metadata": {},
   "outputs": [],
   "source": []
  },
  {
   "cell_type": "code",
   "execution_count": 9,
   "id": "94783bfa-e707-4166-aa3c-64a3a374e841",
   "metadata": {},
   "outputs": [],
   "source": [
    "## DataFrame()"
   ]
  },
  {
   "cell_type": "code",
   "execution_count": null,
   "id": "1998ac50-7ea6-4ec6-8280-a92bce45d434",
   "metadata": {},
   "outputs": [],
   "source": []
  },
  {
   "cell_type": "code",
   "execution_count": 10,
   "id": "eb284b75-ba17-4d8e-8250-4cda5eced245",
   "metadata": {},
   "outputs": [],
   "source": [
    "### random.randn()"
   ]
  },
  {
   "cell_type": "code",
   "execution_count": 11,
   "id": "0feec322-f24c-45b1-bb95-69a0adc3ae4b",
   "metadata": {},
   "outputs": [],
   "source": [
    "df = pd.DataFrame(np.random.randn(6, 4), index=dates, columns=list('ABCD'))"
   ]
  },
  {
   "cell_type": "code",
   "execution_count": 12,
   "id": "fe7cf9b6-8168-4485-804e-5404f0d93c40",
   "metadata": {},
   "outputs": [
    {
     "name": "stdout",
     "output_type": "stream",
     "text": [
      "                   A         B         C         D\n",
      "2019-01-01 -1.787386 -0.639350 -0.136110  1.408459\n",
      "2019-01-02 -1.405204 -1.919531 -1.371732  0.028266\n",
      "2019-01-03 -0.084986  0.013755 -0.478601 -0.537823\n",
      "2019-01-04  1.528943  1.800762  0.730656 -0.054544\n",
      "2019-01-05  0.818991 -1.495017  0.273713  0.132045\n",
      "2019-01-06 -0.277826 -1.761159  0.034556 -0.088249\n"
     ]
    }
   ],
   "source": [
    "print(df)"
   ]
  },
  {
   "cell_type": "code",
   "execution_count": null,
   "id": "9657e110-eae0-455f-93d7-c309485a8c6e",
   "metadata": {},
   "outputs": [],
   "source": []
  },
  {
   "cell_type": "code",
   "execution_count": 13,
   "id": "1c0d7403-7466-4b38-b9cc-aaabc9ddf644",
   "metadata": {},
   "outputs": [],
   "source": [
    "### Series(, index= , dtype= )"
   ]
  },
  {
   "cell_type": "code",
   "execution_count": 14,
   "id": "c6ebb4b1-eb53-4519-9940-7c34589bcb14",
   "metadata": {},
   "outputs": [],
   "source": [
    "df2 = pd.DataFrame({\n",
    "    'C': pd.Series(1, index=list(range(3)), dtype='float32'),\n",
    "    \n",
    "})"
   ]
  },
  {
   "cell_type": "code",
   "execution_count": 15,
   "id": "dd8e3ca7-7a17-40a8-84a8-454e373573c3",
   "metadata": {},
   "outputs": [
    {
     "name": "stdout",
     "output_type": "stream",
     "text": [
      "     C\n",
      "0  1.0\n",
      "1  1.0\n",
      "2  1.0\n"
     ]
    }
   ],
   "source": [
    "print(df2)"
   ]
  },
  {
   "cell_type": "code",
   "execution_count": null,
   "id": "c8a50ff1-6267-499a-9ce9-cfe49960d1be",
   "metadata": {},
   "outputs": [],
   "source": []
  },
  {
   "cell_type": "code",
   "execution_count": 16,
   "id": "6d82e106-0d7b-4a32-aeb4-44e794ff4a71",
   "metadata": {},
   "outputs": [],
   "source": [
    "df2 = pd.DataFrame({\n",
    "    'C': pd.Series(1, index=list(range(4)), dtype='float32'),\n",
    "    \n",
    "})"
   ]
  },
  {
   "cell_type": "code",
   "execution_count": 17,
   "id": "f6245ccc-bbc8-40b0-a6c1-4528cc7cf96e",
   "metadata": {},
   "outputs": [
    {
     "name": "stdout",
     "output_type": "stream",
     "text": [
      "     C\n",
      "0  1.0\n",
      "1  1.0\n",
      "2  1.0\n",
      "3  1.0\n"
     ]
    }
   ],
   "source": [
    "print(df2)"
   ]
  },
  {
   "cell_type": "code",
   "execution_count": null,
   "id": "71faa464-aeed-4126-a2db-3e6e3ecbbf37",
   "metadata": {},
   "outputs": [],
   "source": []
  },
  {
   "cell_type": "code",
   "execution_count": 18,
   "id": "b699822e-fa4e-4996-87ff-a54524635233",
   "metadata": {},
   "outputs": [],
   "source": [
    "### Timestamp()"
   ]
  },
  {
   "cell_type": "code",
   "execution_count": 19,
   "id": "83023f6f-7278-48dd-80b9-ee6cf3e46fd7",
   "metadata": {},
   "outputs": [],
   "source": [
    "df2 = pd.DataFrame({\n",
    "    'B': pd.Timestamp('20190101'),\n",
    "    'C': pd.Series(1, index=list(range(4)), dtype='float32'),\n",
    "    \n",
    "})"
   ]
  },
  {
   "cell_type": "code",
   "execution_count": 20,
   "id": "5946e61c-7378-465f-bede-53624e9f842f",
   "metadata": {},
   "outputs": [
    {
     "name": "stdout",
     "output_type": "stream",
     "text": [
      "           B    C\n",
      "0 2019-01-01  1.0\n",
      "1 2019-01-01  1.0\n",
      "2 2019-01-01  1.0\n",
      "3 2019-01-01  1.0\n"
     ]
    }
   ],
   "source": [
    "print(df2)"
   ]
  },
  {
   "cell_type": "code",
   "execution_count": null,
   "id": "069796d5-bb55-4c95-b950-197b7ae238fe",
   "metadata": {},
   "outputs": [],
   "source": []
  },
  {
   "cell_type": "code",
   "execution_count": 21,
   "id": "5ff67de1-0bd7-4054-b1f2-febc1b728bf7",
   "metadata": {},
   "outputs": [],
   "source": [
    "df2 = pd.DataFrame({\n",
    "    'A': pd.Series(1, index=list(range(4)), dtype='float32'),\n",
    "    'B': pd.Timestamp('2019-01-01'),\n",
    "    'C': 1.0,\n",
    "    # 'D': pd.Series(3, index=list(range(4)), dtype='int32'),\n",
    "    #'D': np.array([3] * 4, dtype='int32'),\n",
    "    'D': 3,\n",
    "    'E': pd.Categorical(['test', 'train', 'test', 'train']),\n",
    "    'F': 'foo',\n",
    "    \n",
    "})"
   ]
  },
  {
   "cell_type": "code",
   "execution_count": 22,
   "id": "4599f810-0f30-4a85-94ee-cf6eb1792ab1",
   "metadata": {},
   "outputs": [
    {
     "name": "stdout",
     "output_type": "stream",
     "text": [
      "     A          B    C  D      E    F\n",
      "0  1.0 2019-01-01  1.0  3   test  foo\n",
      "1  1.0 2019-01-01  1.0  3  train  foo\n",
      "2  1.0 2019-01-01  1.0  3   test  foo\n",
      "3  1.0 2019-01-01  1.0  3  train  foo\n"
     ]
    }
   ],
   "source": [
    "print(df2)"
   ]
  },
  {
   "cell_type": "code",
   "execution_count": 23,
   "id": "fd563838-c840-4477-a0ce-a0c7eb577910",
   "metadata": {},
   "outputs": [
    {
     "name": "stdout",
     "output_type": "stream",
     "text": [
      "A          float32\n",
      "B    datetime64[s]\n",
      "C          float64\n",
      "D            int64\n",
      "E         category\n",
      "F           object\n",
      "dtype: object\n"
     ]
    }
   ],
   "source": [
    "print(df2.dtypes)"
   ]
  },
  {
   "cell_type": "code",
   "execution_count": null,
   "id": "c9bed2c7-a4d6-4160-9f57-bf1d53d0bf90",
   "metadata": {},
   "outputs": [],
   "source": []
  },
  {
   "cell_type": "code",
   "execution_count": 24,
   "id": "1697a1a4-49f4-458f-90cb-35cd51d4e10f",
   "metadata": {},
   "outputs": [],
   "source": [
    "## 데이터 보기"
   ]
  },
  {
   "cell_type": "code",
   "execution_count": null,
   "id": "0965f736-6212-4ec8-b937-09d1f97d2276",
   "metadata": {},
   "outputs": [],
   "source": []
  },
  {
   "cell_type": "code",
   "execution_count": 25,
   "id": "68709ce3-c9c0-4331-9fe4-310b62d4b8e9",
   "metadata": {},
   "outputs": [],
   "source": [
    "### head() : 데이터 프레임 위쪽 데이터 보기"
   ]
  },
  {
   "cell_type": "code",
   "execution_count": 26,
   "id": "20a86cca-c8d1-4e6e-9b12-33fceb8b5979",
   "metadata": {},
   "outputs": [
    {
     "data": {
      "text/html": [
       "<div>\n",
       "<style scoped>\n",
       "    .dataframe tbody tr th:only-of-type {\n",
       "        vertical-align: middle;\n",
       "    }\n",
       "\n",
       "    .dataframe tbody tr th {\n",
       "        vertical-align: top;\n",
       "    }\n",
       "\n",
       "    .dataframe thead th {\n",
       "        text-align: right;\n",
       "    }\n",
       "</style>\n",
       "<table border=\"1\" class=\"dataframe\">\n",
       "  <thead>\n",
       "    <tr style=\"text-align: right;\">\n",
       "      <th></th>\n",
       "      <th>A</th>\n",
       "      <th>B</th>\n",
       "      <th>C</th>\n",
       "      <th>D</th>\n",
       "    </tr>\n",
       "  </thead>\n",
       "  <tbody>\n",
       "    <tr>\n",
       "      <th>2019-01-01</th>\n",
       "      <td>-1.787386</td>\n",
       "      <td>-0.639350</td>\n",
       "      <td>-0.136110</td>\n",
       "      <td>1.408459</td>\n",
       "    </tr>\n",
       "    <tr>\n",
       "      <th>2019-01-02</th>\n",
       "      <td>-1.405204</td>\n",
       "      <td>-1.919531</td>\n",
       "      <td>-1.371732</td>\n",
       "      <td>0.028266</td>\n",
       "    </tr>\n",
       "    <tr>\n",
       "      <th>2019-01-03</th>\n",
       "      <td>-0.084986</td>\n",
       "      <td>0.013755</td>\n",
       "      <td>-0.478601</td>\n",
       "      <td>-0.537823</td>\n",
       "    </tr>\n",
       "    <tr>\n",
       "      <th>2019-01-04</th>\n",
       "      <td>1.528943</td>\n",
       "      <td>1.800762</td>\n",
       "      <td>0.730656</td>\n",
       "      <td>-0.054544</td>\n",
       "    </tr>\n",
       "    <tr>\n",
       "      <th>2019-01-05</th>\n",
       "      <td>0.818991</td>\n",
       "      <td>-1.495017</td>\n",
       "      <td>0.273713</td>\n",
       "      <td>0.132045</td>\n",
       "    </tr>\n",
       "  </tbody>\n",
       "</table>\n",
       "</div>"
      ],
      "text/plain": [
       "                   A         B         C         D\n",
       "2019-01-01 -1.787386 -0.639350 -0.136110  1.408459\n",
       "2019-01-02 -1.405204 -1.919531 -1.371732  0.028266\n",
       "2019-01-03 -0.084986  0.013755 -0.478601 -0.537823\n",
       "2019-01-04  1.528943  1.800762  0.730656 -0.054544\n",
       "2019-01-05  0.818991 -1.495017  0.273713  0.132045"
      ]
     },
     "execution_count": 26,
     "metadata": {},
     "output_type": "execute_result"
    }
   ],
   "source": [
    "df.head()"
   ]
  },
  {
   "cell_type": "code",
   "execution_count": null,
   "id": "e14e88ac-b6f9-4e76-946a-41c5f11c45f7",
   "metadata": {},
   "outputs": [],
   "source": []
  },
  {
   "cell_type": "code",
   "execution_count": 27,
   "id": "3ce69e25-733a-440d-b119-ddf8e75551ec",
   "metadata": {},
   "outputs": [],
   "source": [
    "### tail() : 데이터 프레임 아래쪽 데이터 보기"
   ]
  },
  {
   "cell_type": "code",
   "execution_count": 28,
   "id": "365a74d8-eafc-470a-b2a5-fd360df57e53",
   "metadata": {},
   "outputs": [
    {
     "data": {
      "text/html": [
       "<div>\n",
       "<style scoped>\n",
       "    .dataframe tbody tr th:only-of-type {\n",
       "        vertical-align: middle;\n",
       "    }\n",
       "\n",
       "    .dataframe tbody tr th {\n",
       "        vertical-align: top;\n",
       "    }\n",
       "\n",
       "    .dataframe thead th {\n",
       "        text-align: right;\n",
       "    }\n",
       "</style>\n",
       "<table border=\"1\" class=\"dataframe\">\n",
       "  <thead>\n",
       "    <tr style=\"text-align: right;\">\n",
       "      <th></th>\n",
       "      <th>A</th>\n",
       "      <th>B</th>\n",
       "      <th>C</th>\n",
       "      <th>D</th>\n",
       "    </tr>\n",
       "  </thead>\n",
       "  <tbody>\n",
       "    <tr>\n",
       "      <th>2019-01-02</th>\n",
       "      <td>-1.405204</td>\n",
       "      <td>-1.919531</td>\n",
       "      <td>-1.371732</td>\n",
       "      <td>0.028266</td>\n",
       "    </tr>\n",
       "    <tr>\n",
       "      <th>2019-01-03</th>\n",
       "      <td>-0.084986</td>\n",
       "      <td>0.013755</td>\n",
       "      <td>-0.478601</td>\n",
       "      <td>-0.537823</td>\n",
       "    </tr>\n",
       "    <tr>\n",
       "      <th>2019-01-04</th>\n",
       "      <td>1.528943</td>\n",
       "      <td>1.800762</td>\n",
       "      <td>0.730656</td>\n",
       "      <td>-0.054544</td>\n",
       "    </tr>\n",
       "    <tr>\n",
       "      <th>2019-01-05</th>\n",
       "      <td>0.818991</td>\n",
       "      <td>-1.495017</td>\n",
       "      <td>0.273713</td>\n",
       "      <td>0.132045</td>\n",
       "    </tr>\n",
       "    <tr>\n",
       "      <th>2019-01-06</th>\n",
       "      <td>-0.277826</td>\n",
       "      <td>-1.761159</td>\n",
       "      <td>0.034556</td>\n",
       "      <td>-0.088249</td>\n",
       "    </tr>\n",
       "  </tbody>\n",
       "</table>\n",
       "</div>"
      ],
      "text/plain": [
       "                   A         B         C         D\n",
       "2019-01-02 -1.405204 -1.919531 -1.371732  0.028266\n",
       "2019-01-03 -0.084986  0.013755 -0.478601 -0.537823\n",
       "2019-01-04  1.528943  1.800762  0.730656 -0.054544\n",
       "2019-01-05  0.818991 -1.495017  0.273713  0.132045\n",
       "2019-01-06 -0.277826 -1.761159  0.034556 -0.088249"
      ]
     },
     "execution_count": 28,
     "metadata": {},
     "output_type": "execute_result"
    }
   ],
   "source": [
    "df.tail()"
   ]
  },
  {
   "cell_type": "code",
   "execution_count": null,
   "id": "b206558c-9e01-427c-9b1d-e0ae14a85f5d",
   "metadata": {},
   "outputs": [],
   "source": []
  },
  {
   "cell_type": "code",
   "execution_count": 29,
   "id": "3cc45248-1e6c-4ac7-b6d8-2ed1e2bb1d51",
   "metadata": {},
   "outputs": [],
   "source": [
    "### 특정 갯수 데이터만 보기"
   ]
  },
  {
   "cell_type": "code",
   "execution_count": 30,
   "id": "8b3076df-6679-481e-b193-e051605b7edb",
   "metadata": {},
   "outputs": [
    {
     "data": {
      "text/html": [
       "<div>\n",
       "<style scoped>\n",
       "    .dataframe tbody tr th:only-of-type {\n",
       "        vertical-align: middle;\n",
       "    }\n",
       "\n",
       "    .dataframe tbody tr th {\n",
       "        vertical-align: top;\n",
       "    }\n",
       "\n",
       "    .dataframe thead th {\n",
       "        text-align: right;\n",
       "    }\n",
       "</style>\n",
       "<table border=\"1\" class=\"dataframe\">\n",
       "  <thead>\n",
       "    <tr style=\"text-align: right;\">\n",
       "      <th></th>\n",
       "      <th>A</th>\n",
       "      <th>B</th>\n",
       "      <th>C</th>\n",
       "      <th>D</th>\n",
       "    </tr>\n",
       "  </thead>\n",
       "  <tbody>\n",
       "    <tr>\n",
       "      <th>2019-01-01</th>\n",
       "      <td>-1.787386</td>\n",
       "      <td>-0.639350</td>\n",
       "      <td>-0.136110</td>\n",
       "      <td>1.408459</td>\n",
       "    </tr>\n",
       "    <tr>\n",
       "      <th>2019-01-02</th>\n",
       "      <td>-1.405204</td>\n",
       "      <td>-1.919531</td>\n",
       "      <td>-1.371732</td>\n",
       "      <td>0.028266</td>\n",
       "    </tr>\n",
       "  </tbody>\n",
       "</table>\n",
       "</div>"
      ],
      "text/plain": [
       "                   A         B         C         D\n",
       "2019-01-01 -1.787386 -0.639350 -0.136110  1.408459\n",
       "2019-01-02 -1.405204 -1.919531 -1.371732  0.028266"
      ]
     },
     "execution_count": 30,
     "metadata": {},
     "output_type": "execute_result"
    }
   ],
   "source": [
    "df.head(2)"
   ]
  },
  {
   "cell_type": "code",
   "execution_count": 31,
   "id": "f848070a-6db4-4aa8-b636-b8add5901275",
   "metadata": {},
   "outputs": [
    {
     "data": {
      "text/html": [
       "<div>\n",
       "<style scoped>\n",
       "    .dataframe tbody tr th:only-of-type {\n",
       "        vertical-align: middle;\n",
       "    }\n",
       "\n",
       "    .dataframe tbody tr th {\n",
       "        vertical-align: top;\n",
       "    }\n",
       "\n",
       "    .dataframe thead th {\n",
       "        text-align: right;\n",
       "    }\n",
       "</style>\n",
       "<table border=\"1\" class=\"dataframe\">\n",
       "  <thead>\n",
       "    <tr style=\"text-align: right;\">\n",
       "      <th></th>\n",
       "      <th>A</th>\n",
       "      <th>B</th>\n",
       "      <th>C</th>\n",
       "      <th>D</th>\n",
       "    </tr>\n",
       "  </thead>\n",
       "  <tbody>\n",
       "    <tr>\n",
       "      <th>2019-01-05</th>\n",
       "      <td>0.818991</td>\n",
       "      <td>-1.495017</td>\n",
       "      <td>0.273713</td>\n",
       "      <td>0.132045</td>\n",
       "    </tr>\n",
       "    <tr>\n",
       "      <th>2019-01-06</th>\n",
       "      <td>-0.277826</td>\n",
       "      <td>-1.761159</td>\n",
       "      <td>0.034556</td>\n",
       "      <td>-0.088249</td>\n",
       "    </tr>\n",
       "  </tbody>\n",
       "</table>\n",
       "</div>"
      ],
      "text/plain": [
       "                   A         B         C         D\n",
       "2019-01-05  0.818991 -1.495017  0.273713  0.132045\n",
       "2019-01-06 -0.277826 -1.761159  0.034556 -0.088249"
      ]
     },
     "execution_count": 31,
     "metadata": {},
     "output_type": "execute_result"
    }
   ],
   "source": [
    "df.tail(2)"
   ]
  },
  {
   "cell_type": "code",
   "execution_count": null,
   "id": "45529c47-7a33-419d-b4b2-658e06e2bec5",
   "metadata": {},
   "outputs": [],
   "source": []
  },
  {
   "cell_type": "code",
   "execution_count": 32,
   "id": "e1c57798-5467-49a5-82d3-a1b8701a8c5c",
   "metadata": {},
   "outputs": [],
   "source": [
    "### indx : 인덱스만 보기"
   ]
  },
  {
   "cell_type": "code",
   "execution_count": 33,
   "id": "7b7de172-faab-4628-aa6b-60c4e4e984f3",
   "metadata": {},
   "outputs": [
    {
     "data": {
      "text/plain": [
       "DatetimeIndex(['2019-01-01', '2019-01-02', '2019-01-03', '2019-01-04',\n",
       "               '2019-01-05', '2019-01-06'],\n",
       "              dtype='datetime64[ns]', freq='D')"
      ]
     },
     "execution_count": 33,
     "metadata": {},
     "output_type": "execute_result"
    }
   ],
   "source": [
    "df.index"
   ]
  },
  {
   "cell_type": "code",
   "execution_count": null,
   "id": "75533047-51d6-4b46-a34d-0bad90a266c7",
   "metadata": {},
   "outputs": [],
   "source": []
  },
  {
   "cell_type": "code",
   "execution_count": 34,
   "id": "88a23711-c92e-453f-894d-2957082e32af",
   "metadata": {},
   "outputs": [],
   "source": [
    "### columns : 칼럼 이름만 보기"
   ]
  },
  {
   "cell_type": "code",
   "execution_count": 35,
   "id": "641180de-d28d-4480-9e46-5f92cc30ae64",
   "metadata": {},
   "outputs": [
    {
     "data": {
      "text/plain": [
       "Index(['A', 'B', 'C', 'D'], dtype='object')"
      ]
     },
     "execution_count": 35,
     "metadata": {},
     "output_type": "execute_result"
    }
   ],
   "source": [
    "df.columns"
   ]
  },
  {
   "cell_type": "code",
   "execution_count": null,
   "id": "b765270d-bc48-47d5-91ce-6b3ed094ebdb",
   "metadata": {},
   "outputs": [],
   "source": []
  },
  {
   "cell_type": "code",
   "execution_count": 36,
   "id": "1c5506e3-2648-4b9c-9fe1-30fd2e6c20be",
   "metadata": {},
   "outputs": [],
   "source": [
    "### describe() 통계 정보 보기"
   ]
  },
  {
   "cell_type": "code",
   "execution_count": 37,
   "id": "8fc60ed7-1f32-42ad-bde3-520c48146014",
   "metadata": {},
   "outputs": [
    {
     "data": {
      "text/html": [
       "<div>\n",
       "<style scoped>\n",
       "    .dataframe tbody tr th:only-of-type {\n",
       "        vertical-align: middle;\n",
       "    }\n",
       "\n",
       "    .dataframe tbody tr th {\n",
       "        vertical-align: top;\n",
       "    }\n",
       "\n",
       "    .dataframe thead th {\n",
       "        text-align: right;\n",
       "    }\n",
       "</style>\n",
       "<table border=\"1\" class=\"dataframe\">\n",
       "  <thead>\n",
       "    <tr style=\"text-align: right;\">\n",
       "      <th></th>\n",
       "      <th>A</th>\n",
       "      <th>B</th>\n",
       "      <th>C</th>\n",
       "      <th>D</th>\n",
       "    </tr>\n",
       "  </thead>\n",
       "  <tbody>\n",
       "    <tr>\n",
       "      <th>count</th>\n",
       "      <td>6.000000</td>\n",
       "      <td>6.000000</td>\n",
       "      <td>6.000000</td>\n",
       "      <td>6.000000</td>\n",
       "    </tr>\n",
       "    <tr>\n",
       "      <th>mean</th>\n",
       "      <td>-0.201245</td>\n",
       "      <td>-0.666757</td>\n",
       "      <td>-0.157919</td>\n",
       "      <td>0.148026</td>\n",
       "    </tr>\n",
       "    <tr>\n",
       "      <th>std</th>\n",
       "      <td>1.266426</td>\n",
       "      <td>1.414614</td>\n",
       "      <td>0.719663</td>\n",
       "      <td>0.658868</td>\n",
       "    </tr>\n",
       "    <tr>\n",
       "      <th>min</th>\n",
       "      <td>-1.787386</td>\n",
       "      <td>-1.919531</td>\n",
       "      <td>-1.371732</td>\n",
       "      <td>-0.537823</td>\n",
       "    </tr>\n",
       "    <tr>\n",
       "      <th>25%</th>\n",
       "      <td>-1.123359</td>\n",
       "      <td>-1.694624</td>\n",
       "      <td>-0.392978</td>\n",
       "      <td>-0.079823</td>\n",
       "    </tr>\n",
       "    <tr>\n",
       "      <th>50%</th>\n",
       "      <td>-0.181406</td>\n",
       "      <td>-1.067183</td>\n",
       "      <td>-0.050777</td>\n",
       "      <td>-0.013139</td>\n",
       "    </tr>\n",
       "    <tr>\n",
       "      <th>75%</th>\n",
       "      <td>0.592997</td>\n",
       "      <td>-0.149521</td>\n",
       "      <td>0.213924</td>\n",
       "      <td>0.106100</td>\n",
       "    </tr>\n",
       "    <tr>\n",
       "      <th>max</th>\n",
       "      <td>1.528943</td>\n",
       "      <td>1.800762</td>\n",
       "      <td>0.730656</td>\n",
       "      <td>1.408459</td>\n",
       "    </tr>\n",
       "  </tbody>\n",
       "</table>\n",
       "</div>"
      ],
      "text/plain": [
       "              A         B         C         D\n",
       "count  6.000000  6.000000  6.000000  6.000000\n",
       "mean  -0.201245 -0.666757 -0.157919  0.148026\n",
       "std    1.266426  1.414614  0.719663  0.658868\n",
       "min   -1.787386 -1.919531 -1.371732 -0.537823\n",
       "25%   -1.123359 -1.694624 -0.392978 -0.079823\n",
       "50%   -0.181406 -1.067183 -0.050777 -0.013139\n",
       "75%    0.592997 -0.149521  0.213924  0.106100\n",
       "max    1.528943  1.800762  0.730656  1.408459"
      ]
     },
     "execution_count": 37,
     "metadata": {},
     "output_type": "execute_result"
    }
   ],
   "source": [
    "df.describe()"
   ]
  },
  {
   "cell_type": "code",
   "execution_count": null,
   "id": "ebc8d867-d932-4336-92df-918a63d7fd2b",
   "metadata": {},
   "outputs": [],
   "source": []
  },
  {
   "cell_type": "code",
   "execution_count": 38,
   "id": "36fea47d-efac-4460-a68f-6babd130fcde",
   "metadata": {},
   "outputs": [],
   "source": [
    "### T : 전치 행렬 구하기(인덱스와 칼럼 위치 바꾸기)"
   ]
  },
  {
   "cell_type": "code",
   "execution_count": 39,
   "id": "77479039-bdab-4b6e-b462-ff0aad06c134",
   "metadata": {},
   "outputs": [
    {
     "data": {
      "text/html": [
       "<div>\n",
       "<style scoped>\n",
       "    .dataframe tbody tr th:only-of-type {\n",
       "        vertical-align: middle;\n",
       "    }\n",
       "\n",
       "    .dataframe tbody tr th {\n",
       "        vertical-align: top;\n",
       "    }\n",
       "\n",
       "    .dataframe thead th {\n",
       "        text-align: right;\n",
       "    }\n",
       "</style>\n",
       "<table border=\"1\" class=\"dataframe\">\n",
       "  <thead>\n",
       "    <tr style=\"text-align: right;\">\n",
       "      <th></th>\n",
       "      <th>A</th>\n",
       "      <th>B</th>\n",
       "      <th>C</th>\n",
       "      <th>D</th>\n",
       "    </tr>\n",
       "  </thead>\n",
       "  <tbody>\n",
       "    <tr>\n",
       "      <th>2019-01-01</th>\n",
       "      <td>-1.787386</td>\n",
       "      <td>-0.639350</td>\n",
       "      <td>-0.136110</td>\n",
       "      <td>1.408459</td>\n",
       "    </tr>\n",
       "    <tr>\n",
       "      <th>2019-01-02</th>\n",
       "      <td>-1.405204</td>\n",
       "      <td>-1.919531</td>\n",
       "      <td>-1.371732</td>\n",
       "      <td>0.028266</td>\n",
       "    </tr>\n",
       "    <tr>\n",
       "      <th>2019-01-03</th>\n",
       "      <td>-0.084986</td>\n",
       "      <td>0.013755</td>\n",
       "      <td>-0.478601</td>\n",
       "      <td>-0.537823</td>\n",
       "    </tr>\n",
       "    <tr>\n",
       "      <th>2019-01-04</th>\n",
       "      <td>1.528943</td>\n",
       "      <td>1.800762</td>\n",
       "      <td>0.730656</td>\n",
       "      <td>-0.054544</td>\n",
       "    </tr>\n",
       "    <tr>\n",
       "      <th>2019-01-05</th>\n",
       "      <td>0.818991</td>\n",
       "      <td>-1.495017</td>\n",
       "      <td>0.273713</td>\n",
       "      <td>0.132045</td>\n",
       "    </tr>\n",
       "    <tr>\n",
       "      <th>2019-01-06</th>\n",
       "      <td>-0.277826</td>\n",
       "      <td>-1.761159</td>\n",
       "      <td>0.034556</td>\n",
       "      <td>-0.088249</td>\n",
       "    </tr>\n",
       "  </tbody>\n",
       "</table>\n",
       "</div>"
      ],
      "text/plain": [
       "                   A         B         C         D\n",
       "2019-01-01 -1.787386 -0.639350 -0.136110  1.408459\n",
       "2019-01-02 -1.405204 -1.919531 -1.371732  0.028266\n",
       "2019-01-03 -0.084986  0.013755 -0.478601 -0.537823\n",
       "2019-01-04  1.528943  1.800762  0.730656 -0.054544\n",
       "2019-01-05  0.818991 -1.495017  0.273713  0.132045\n",
       "2019-01-06 -0.277826 -1.761159  0.034556 -0.088249"
      ]
     },
     "execution_count": 39,
     "metadata": {},
     "output_type": "execute_result"
    }
   ],
   "source": [
    "df"
   ]
  },
  {
   "cell_type": "code",
   "execution_count": 40,
   "id": "3039f3d7-6435-4716-9591-eb0173d1f5e2",
   "metadata": {},
   "outputs": [
    {
     "data": {
      "text/html": [
       "<div>\n",
       "<style scoped>\n",
       "    .dataframe tbody tr th:only-of-type {\n",
       "        vertical-align: middle;\n",
       "    }\n",
       "\n",
       "    .dataframe tbody tr th {\n",
       "        vertical-align: top;\n",
       "    }\n",
       "\n",
       "    .dataframe thead th {\n",
       "        text-align: right;\n",
       "    }\n",
       "</style>\n",
       "<table border=\"1\" class=\"dataframe\">\n",
       "  <thead>\n",
       "    <tr style=\"text-align: right;\">\n",
       "      <th></th>\n",
       "      <th>2019-01-01</th>\n",
       "      <th>2019-01-02</th>\n",
       "      <th>2019-01-03</th>\n",
       "      <th>2019-01-04</th>\n",
       "      <th>2019-01-05</th>\n",
       "      <th>2019-01-06</th>\n",
       "    </tr>\n",
       "  </thead>\n",
       "  <tbody>\n",
       "    <tr>\n",
       "      <th>A</th>\n",
       "      <td>-1.787386</td>\n",
       "      <td>-1.405204</td>\n",
       "      <td>-0.084986</td>\n",
       "      <td>1.528943</td>\n",
       "      <td>0.818991</td>\n",
       "      <td>-0.277826</td>\n",
       "    </tr>\n",
       "    <tr>\n",
       "      <th>B</th>\n",
       "      <td>-0.639350</td>\n",
       "      <td>-1.919531</td>\n",
       "      <td>0.013755</td>\n",
       "      <td>1.800762</td>\n",
       "      <td>-1.495017</td>\n",
       "      <td>-1.761159</td>\n",
       "    </tr>\n",
       "    <tr>\n",
       "      <th>C</th>\n",
       "      <td>-0.136110</td>\n",
       "      <td>-1.371732</td>\n",
       "      <td>-0.478601</td>\n",
       "      <td>0.730656</td>\n",
       "      <td>0.273713</td>\n",
       "      <td>0.034556</td>\n",
       "    </tr>\n",
       "    <tr>\n",
       "      <th>D</th>\n",
       "      <td>1.408459</td>\n",
       "      <td>0.028266</td>\n",
       "      <td>-0.537823</td>\n",
       "      <td>-0.054544</td>\n",
       "      <td>0.132045</td>\n",
       "      <td>-0.088249</td>\n",
       "    </tr>\n",
       "  </tbody>\n",
       "</table>\n",
       "</div>"
      ],
      "text/plain": [
       "   2019-01-01  2019-01-02  2019-01-03  2019-01-04  2019-01-05  2019-01-06\n",
       "A   -1.787386   -1.405204   -0.084986    1.528943    0.818991   -0.277826\n",
       "B   -0.639350   -1.919531    0.013755    1.800762   -1.495017   -1.761159\n",
       "C   -0.136110   -1.371732   -0.478601    0.730656    0.273713    0.034556\n",
       "D    1.408459    0.028266   -0.537823   -0.054544    0.132045   -0.088249"
      ]
     },
     "execution_count": 40,
     "metadata": {},
     "output_type": "execute_result"
    }
   ],
   "source": [
    "df.T"
   ]
  },
  {
   "cell_type": "code",
   "execution_count": null,
   "id": "92209b7d-babd-498f-9922-4833b69ac3ca",
   "metadata": {},
   "outputs": [],
   "source": []
  },
  {
   "cell_type": "code",
   "execution_count": 41,
   "id": "fa252784-aff1-4ffc-abc3-ddad5a1202d9",
   "metadata": {},
   "outputs": [],
   "source": [
    "### sort() : 정렬하기"
   ]
  },
  {
   "cell_type": "code",
   "execution_count": 42,
   "id": "62270be4-b895-4fad-acae-31c06577e07c",
   "metadata": {},
   "outputs": [
    {
     "data": {
      "text/html": [
       "<div>\n",
       "<style scoped>\n",
       "    .dataframe tbody tr th:only-of-type {\n",
       "        vertical-align: middle;\n",
       "    }\n",
       "\n",
       "    .dataframe tbody tr th {\n",
       "        vertical-align: top;\n",
       "    }\n",
       "\n",
       "    .dataframe thead th {\n",
       "        text-align: right;\n",
       "    }\n",
       "</style>\n",
       "<table border=\"1\" class=\"dataframe\">\n",
       "  <thead>\n",
       "    <tr style=\"text-align: right;\">\n",
       "      <th></th>\n",
       "      <th>A</th>\n",
       "      <th>B</th>\n",
       "      <th>C</th>\n",
       "      <th>D</th>\n",
       "    </tr>\n",
       "  </thead>\n",
       "  <tbody>\n",
       "    <tr>\n",
       "      <th>2019-01-01</th>\n",
       "      <td>-1.787386</td>\n",
       "      <td>-0.639350</td>\n",
       "      <td>-0.136110</td>\n",
       "      <td>1.408459</td>\n",
       "    </tr>\n",
       "    <tr>\n",
       "      <th>2019-01-02</th>\n",
       "      <td>-1.405204</td>\n",
       "      <td>-1.919531</td>\n",
       "      <td>-1.371732</td>\n",
       "      <td>0.028266</td>\n",
       "    </tr>\n",
       "    <tr>\n",
       "      <th>2019-01-03</th>\n",
       "      <td>-0.084986</td>\n",
       "      <td>0.013755</td>\n",
       "      <td>-0.478601</td>\n",
       "      <td>-0.537823</td>\n",
       "    </tr>\n",
       "    <tr>\n",
       "      <th>2019-01-04</th>\n",
       "      <td>1.528943</td>\n",
       "      <td>1.800762</td>\n",
       "      <td>0.730656</td>\n",
       "      <td>-0.054544</td>\n",
       "    </tr>\n",
       "    <tr>\n",
       "      <th>2019-01-05</th>\n",
       "      <td>0.818991</td>\n",
       "      <td>-1.495017</td>\n",
       "      <td>0.273713</td>\n",
       "      <td>0.132045</td>\n",
       "    </tr>\n",
       "    <tr>\n",
       "      <th>2019-01-06</th>\n",
       "      <td>-0.277826</td>\n",
       "      <td>-1.761159</td>\n",
       "      <td>0.034556</td>\n",
       "      <td>-0.088249</td>\n",
       "    </tr>\n",
       "  </tbody>\n",
       "</table>\n",
       "</div>"
      ],
      "text/plain": [
       "                   A         B         C         D\n",
       "2019-01-01 -1.787386 -0.639350 -0.136110  1.408459\n",
       "2019-01-02 -1.405204 -1.919531 -1.371732  0.028266\n",
       "2019-01-03 -0.084986  0.013755 -0.478601 -0.537823\n",
       "2019-01-04  1.528943  1.800762  0.730656 -0.054544\n",
       "2019-01-05  0.818991 -1.495017  0.273713  0.132045\n",
       "2019-01-06 -0.277826 -1.761159  0.034556 -0.088249"
      ]
     },
     "execution_count": 42,
     "metadata": {},
     "output_type": "execute_result"
    }
   ],
   "source": [
    "df"
   ]
  },
  {
   "cell_type": "code",
   "execution_count": null,
   "id": "f72656ce-4578-44c1-8964-a1c3dc34ebd9",
   "metadata": {},
   "outputs": [],
   "source": []
  },
  {
   "cell_type": "code",
   "execution_count": 43,
   "id": "ca17c2d2-a26d-4284-8f95-184dc4979faa",
   "metadata": {},
   "outputs": [
    {
     "data": {
      "text/html": [
       "<div>\n",
       "<style scoped>\n",
       "    .dataframe tbody tr th:only-of-type {\n",
       "        vertical-align: middle;\n",
       "    }\n",
       "\n",
       "    .dataframe tbody tr th {\n",
       "        vertical-align: top;\n",
       "    }\n",
       "\n",
       "    .dataframe thead th {\n",
       "        text-align: right;\n",
       "    }\n",
       "</style>\n",
       "<table border=\"1\" class=\"dataframe\">\n",
       "  <thead>\n",
       "    <tr style=\"text-align: right;\">\n",
       "      <th></th>\n",
       "      <th>D</th>\n",
       "      <th>C</th>\n",
       "      <th>B</th>\n",
       "      <th>A</th>\n",
       "    </tr>\n",
       "  </thead>\n",
       "  <tbody>\n",
       "    <tr>\n",
       "      <th>2019-01-01</th>\n",
       "      <td>1.408459</td>\n",
       "      <td>-0.136110</td>\n",
       "      <td>-0.639350</td>\n",
       "      <td>-1.787386</td>\n",
       "    </tr>\n",
       "    <tr>\n",
       "      <th>2019-01-02</th>\n",
       "      <td>0.028266</td>\n",
       "      <td>-1.371732</td>\n",
       "      <td>-1.919531</td>\n",
       "      <td>-1.405204</td>\n",
       "    </tr>\n",
       "    <tr>\n",
       "      <th>2019-01-03</th>\n",
       "      <td>-0.537823</td>\n",
       "      <td>-0.478601</td>\n",
       "      <td>0.013755</td>\n",
       "      <td>-0.084986</td>\n",
       "    </tr>\n",
       "    <tr>\n",
       "      <th>2019-01-04</th>\n",
       "      <td>-0.054544</td>\n",
       "      <td>0.730656</td>\n",
       "      <td>1.800762</td>\n",
       "      <td>1.528943</td>\n",
       "    </tr>\n",
       "    <tr>\n",
       "      <th>2019-01-05</th>\n",
       "      <td>0.132045</td>\n",
       "      <td>0.273713</td>\n",
       "      <td>-1.495017</td>\n",
       "      <td>0.818991</td>\n",
       "    </tr>\n",
       "    <tr>\n",
       "      <th>2019-01-06</th>\n",
       "      <td>-0.088249</td>\n",
       "      <td>0.034556</td>\n",
       "      <td>-1.761159</td>\n",
       "      <td>-0.277826</td>\n",
       "    </tr>\n",
       "  </tbody>\n",
       "</table>\n",
       "</div>"
      ],
      "text/plain": [
       "                   D         C         B         A\n",
       "2019-01-01  1.408459 -0.136110 -0.639350 -1.787386\n",
       "2019-01-02  0.028266 -1.371732 -1.919531 -1.405204\n",
       "2019-01-03 -0.537823 -0.478601  0.013755 -0.084986\n",
       "2019-01-04 -0.054544  0.730656  1.800762  1.528943\n",
       "2019-01-05  0.132045  0.273713 -1.495017  0.818991\n",
       "2019-01-06 -0.088249  0.034556 -1.761159 -0.277826"
      ]
     },
     "execution_count": 43,
     "metadata": {},
     "output_type": "execute_result"
    }
   ],
   "source": [
    "df.sort_index(axis=1, ascending=False)"
   ]
  },
  {
   "cell_type": "code",
   "execution_count": null,
   "id": "d6d09115-e761-403f-85d8-a0f7f92b58ef",
   "metadata": {},
   "outputs": [],
   "source": []
  },
  {
   "cell_type": "code",
   "execution_count": 44,
   "id": "fcf95899-c03f-442c-b375-d8a9c5ffdbe2",
   "metadata": {},
   "outputs": [
    {
     "data": {
      "text/html": [
       "<div>\n",
       "<style scoped>\n",
       "    .dataframe tbody tr th:only-of-type {\n",
       "        vertical-align: middle;\n",
       "    }\n",
       "\n",
       "    .dataframe tbody tr th {\n",
       "        vertical-align: top;\n",
       "    }\n",
       "\n",
       "    .dataframe thead th {\n",
       "        text-align: right;\n",
       "    }\n",
       "</style>\n",
       "<table border=\"1\" class=\"dataframe\">\n",
       "  <thead>\n",
       "    <tr style=\"text-align: right;\">\n",
       "      <th></th>\n",
       "      <th>A</th>\n",
       "      <th>B</th>\n",
       "      <th>C</th>\n",
       "      <th>D</th>\n",
       "    </tr>\n",
       "  </thead>\n",
       "  <tbody>\n",
       "    <tr>\n",
       "      <th>2019-01-06</th>\n",
       "      <td>-0.277826</td>\n",
       "      <td>-1.761159</td>\n",
       "      <td>0.034556</td>\n",
       "      <td>-0.088249</td>\n",
       "    </tr>\n",
       "    <tr>\n",
       "      <th>2019-01-05</th>\n",
       "      <td>0.818991</td>\n",
       "      <td>-1.495017</td>\n",
       "      <td>0.273713</td>\n",
       "      <td>0.132045</td>\n",
       "    </tr>\n",
       "    <tr>\n",
       "      <th>2019-01-04</th>\n",
       "      <td>1.528943</td>\n",
       "      <td>1.800762</td>\n",
       "      <td>0.730656</td>\n",
       "      <td>-0.054544</td>\n",
       "    </tr>\n",
       "    <tr>\n",
       "      <th>2019-01-03</th>\n",
       "      <td>-0.084986</td>\n",
       "      <td>0.013755</td>\n",
       "      <td>-0.478601</td>\n",
       "      <td>-0.537823</td>\n",
       "    </tr>\n",
       "    <tr>\n",
       "      <th>2019-01-02</th>\n",
       "      <td>-1.405204</td>\n",
       "      <td>-1.919531</td>\n",
       "      <td>-1.371732</td>\n",
       "      <td>0.028266</td>\n",
       "    </tr>\n",
       "    <tr>\n",
       "      <th>2019-01-01</th>\n",
       "      <td>-1.787386</td>\n",
       "      <td>-0.639350</td>\n",
       "      <td>-0.136110</td>\n",
       "      <td>1.408459</td>\n",
       "    </tr>\n",
       "  </tbody>\n",
       "</table>\n",
       "</div>"
      ],
      "text/plain": [
       "                   A         B         C         D\n",
       "2019-01-06 -0.277826 -1.761159  0.034556 -0.088249\n",
       "2019-01-05  0.818991 -1.495017  0.273713  0.132045\n",
       "2019-01-04  1.528943  1.800762  0.730656 -0.054544\n",
       "2019-01-03 -0.084986  0.013755 -0.478601 -0.537823\n",
       "2019-01-02 -1.405204 -1.919531 -1.371732  0.028266\n",
       "2019-01-01 -1.787386 -0.639350 -0.136110  1.408459"
      ]
     },
     "execution_count": 44,
     "metadata": {},
     "output_type": "execute_result"
    }
   ],
   "source": [
    "df.sort_index(axis=0, ascending=False)"
   ]
  },
  {
   "cell_type": "code",
   "execution_count": null,
   "id": "3776b552-b272-45e0-bac7-53ff46dd5efb",
   "metadata": {},
   "outputs": [],
   "source": []
  },
  {
   "cell_type": "code",
   "execution_count": 45,
   "id": "6c70c5f4-b87e-4343-8e22-09d818857953",
   "metadata": {},
   "outputs": [
    {
     "data": {
      "text/html": [
       "<div>\n",
       "<style scoped>\n",
       "    .dataframe tbody tr th:only-of-type {\n",
       "        vertical-align: middle;\n",
       "    }\n",
       "\n",
       "    .dataframe tbody tr th {\n",
       "        vertical-align: top;\n",
       "    }\n",
       "\n",
       "    .dataframe thead th {\n",
       "        text-align: right;\n",
       "    }\n",
       "</style>\n",
       "<table border=\"1\" class=\"dataframe\">\n",
       "  <thead>\n",
       "    <tr style=\"text-align: right;\">\n",
       "      <th></th>\n",
       "      <th>A</th>\n",
       "      <th>B</th>\n",
       "      <th>C</th>\n",
       "      <th>D</th>\n",
       "    </tr>\n",
       "  </thead>\n",
       "  <tbody>\n",
       "    <tr>\n",
       "      <th>2019-01-02</th>\n",
       "      <td>-1.405204</td>\n",
       "      <td>-1.919531</td>\n",
       "      <td>-1.371732</td>\n",
       "      <td>0.028266</td>\n",
       "    </tr>\n",
       "    <tr>\n",
       "      <th>2019-01-06</th>\n",
       "      <td>-0.277826</td>\n",
       "      <td>-1.761159</td>\n",
       "      <td>0.034556</td>\n",
       "      <td>-0.088249</td>\n",
       "    </tr>\n",
       "    <tr>\n",
       "      <th>2019-01-05</th>\n",
       "      <td>0.818991</td>\n",
       "      <td>-1.495017</td>\n",
       "      <td>0.273713</td>\n",
       "      <td>0.132045</td>\n",
       "    </tr>\n",
       "    <tr>\n",
       "      <th>2019-01-01</th>\n",
       "      <td>-1.787386</td>\n",
       "      <td>-0.639350</td>\n",
       "      <td>-0.136110</td>\n",
       "      <td>1.408459</td>\n",
       "    </tr>\n",
       "    <tr>\n",
       "      <th>2019-01-03</th>\n",
       "      <td>-0.084986</td>\n",
       "      <td>0.013755</td>\n",
       "      <td>-0.478601</td>\n",
       "      <td>-0.537823</td>\n",
       "    </tr>\n",
       "    <tr>\n",
       "      <th>2019-01-04</th>\n",
       "      <td>1.528943</td>\n",
       "      <td>1.800762</td>\n",
       "      <td>0.730656</td>\n",
       "      <td>-0.054544</td>\n",
       "    </tr>\n",
       "  </tbody>\n",
       "</table>\n",
       "</div>"
      ],
      "text/plain": [
       "                   A         B         C         D\n",
       "2019-01-02 -1.405204 -1.919531 -1.371732  0.028266\n",
       "2019-01-06 -0.277826 -1.761159  0.034556 -0.088249\n",
       "2019-01-05  0.818991 -1.495017  0.273713  0.132045\n",
       "2019-01-01 -1.787386 -0.639350 -0.136110  1.408459\n",
       "2019-01-03 -0.084986  0.013755 -0.478601 -0.537823\n",
       "2019-01-04  1.528943  1.800762  0.730656 -0.054544"
      ]
     },
     "execution_count": 45,
     "metadata": {},
     "output_type": "execute_result"
    }
   ],
   "source": [
    "df.sort_values(by='B')"
   ]
  },
  {
   "cell_type": "code",
   "execution_count": null,
   "id": "6420aca3-cad6-4761-b8aa-bc8fe4494d6e",
   "metadata": {},
   "outputs": [],
   "source": []
  },
  {
   "cell_type": "code",
   "execution_count": 46,
   "id": "141ac734-34be-489a-8051-9ad15b4feacd",
   "metadata": {},
   "outputs": [
    {
     "data": {
      "text/html": [
       "<div>\n",
       "<style scoped>\n",
       "    .dataframe tbody tr th:only-of-type {\n",
       "        vertical-align: middle;\n",
       "    }\n",
       "\n",
       "    .dataframe tbody tr th {\n",
       "        vertical-align: top;\n",
       "    }\n",
       "\n",
       "    .dataframe thead th {\n",
       "        text-align: right;\n",
       "    }\n",
       "</style>\n",
       "<table border=\"1\" class=\"dataframe\">\n",
       "  <thead>\n",
       "    <tr style=\"text-align: right;\">\n",
       "      <th></th>\n",
       "      <th>A</th>\n",
       "      <th>B</th>\n",
       "      <th>C</th>\n",
       "      <th>D</th>\n",
       "    </tr>\n",
       "  </thead>\n",
       "  <tbody>\n",
       "    <tr>\n",
       "      <th>2019-01-04</th>\n",
       "      <td>1.528943</td>\n",
       "      <td>1.800762</td>\n",
       "      <td>0.730656</td>\n",
       "      <td>-0.054544</td>\n",
       "    </tr>\n",
       "    <tr>\n",
       "      <th>2019-01-03</th>\n",
       "      <td>-0.084986</td>\n",
       "      <td>0.013755</td>\n",
       "      <td>-0.478601</td>\n",
       "      <td>-0.537823</td>\n",
       "    </tr>\n",
       "    <tr>\n",
       "      <th>2019-01-01</th>\n",
       "      <td>-1.787386</td>\n",
       "      <td>-0.639350</td>\n",
       "      <td>-0.136110</td>\n",
       "      <td>1.408459</td>\n",
       "    </tr>\n",
       "    <tr>\n",
       "      <th>2019-01-05</th>\n",
       "      <td>0.818991</td>\n",
       "      <td>-1.495017</td>\n",
       "      <td>0.273713</td>\n",
       "      <td>0.132045</td>\n",
       "    </tr>\n",
       "    <tr>\n",
       "      <th>2019-01-06</th>\n",
       "      <td>-0.277826</td>\n",
       "      <td>-1.761159</td>\n",
       "      <td>0.034556</td>\n",
       "      <td>-0.088249</td>\n",
       "    </tr>\n",
       "    <tr>\n",
       "      <th>2019-01-02</th>\n",
       "      <td>-1.405204</td>\n",
       "      <td>-1.919531</td>\n",
       "      <td>-1.371732</td>\n",
       "      <td>0.028266</td>\n",
       "    </tr>\n",
       "  </tbody>\n",
       "</table>\n",
       "</div>"
      ],
      "text/plain": [
       "                   A         B         C         D\n",
       "2019-01-04  1.528943  1.800762  0.730656 -0.054544\n",
       "2019-01-03 -0.084986  0.013755 -0.478601 -0.537823\n",
       "2019-01-01 -1.787386 -0.639350 -0.136110  1.408459\n",
       "2019-01-05  0.818991 -1.495017  0.273713  0.132045\n",
       "2019-01-06 -0.277826 -1.761159  0.034556 -0.088249\n",
       "2019-01-02 -1.405204 -1.919531 -1.371732  0.028266"
      ]
     },
     "execution_count": 46,
     "metadata": {},
     "output_type": "execute_result"
    }
   ],
   "source": [
    "df.sort_values(by='B', ascending=False)"
   ]
  },
  {
   "cell_type": "code",
   "execution_count": null,
   "id": "7c812e64-b056-47ae-835b-7e77b9e91dcf",
   "metadata": {},
   "outputs": [],
   "source": []
  }
 ],
 "metadata": {
  "kernelspec": {
   "display_name": "Python 3 (ipykernel)",
   "language": "python",
   "name": "python3"
  },
  "language_info": {
   "codemirror_mode": {
    "name": "ipython",
    "version": 3
   },
   "file_extension": ".py",
   "mimetype": "text/x-python",
   "name": "python",
   "nbconvert_exporter": "python",
   "pygments_lexer": "ipython3",
   "version": "3.11.4"
  }
 },
 "nbformat": 4,
 "nbformat_minor": 5
}
