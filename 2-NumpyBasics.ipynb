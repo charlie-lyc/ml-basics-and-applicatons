{
 "cells": [
  {
   "cell_type": "code",
   "execution_count": 21,
   "id": "3d3d49bc-7a1e-49eb-a559-ecbcc05cb69f",
   "metadata": {},
   "outputs": [],
   "source": [
    "import numpy as np"
   ]
  },
  {
   "cell_type": "code",
   "execution_count": null,
   "id": "3fa35aae-4d9e-4e32-9f0c-30ee07598eec",
   "metadata": {},
   "outputs": [],
   "source": []
  },
  {
   "cell_type": "code",
   "execution_count": 22,
   "id": "7961f439-0e4b-46a5-a1e8-4c018450a154",
   "metadata": {},
   "outputs": [],
   "source": [
    "# 1차원 배열 생성"
   ]
  },
  {
   "cell_type": "code",
   "execution_count": null,
   "id": "bd01b9c3-d24c-4c07-a42b-9f8e1b4ee611",
   "metadata": {},
   "outputs": [],
   "source": []
  },
  {
   "cell_type": "code",
   "execution_count": 23,
   "id": "a981d9c3-c77d-44c9-aa0d-8392416d2d2e",
   "metadata": {},
   "outputs": [],
   "source": [
    "## arange()"
   ]
  },
  {
   "cell_type": "code",
   "execution_count": 24,
   "id": "776e132a-188b-464e-b060-d36222c3de2f",
   "metadata": {},
   "outputs": [],
   "source": [
    "arr = np.arange(12)"
   ]
  },
  {
   "cell_type": "code",
   "execution_count": 25,
   "id": "cc3e9913-84e4-4be3-891d-a277acb740b2",
   "metadata": {},
   "outputs": [
    {
     "name": "stdout",
     "output_type": "stream",
     "text": [
      "[ 0  1  2  3  4  5  6  7  8  9 10 11]\n"
     ]
    }
   ],
   "source": [
    "print(arr)"
   ]
  },
  {
   "cell_type": "code",
   "execution_count": 26,
   "id": "785b1508-5b6f-40f8-9f53-4422d1b2a712",
   "metadata": {},
   "outputs": [
    {
     "name": "stdout",
     "output_type": "stream",
     "text": [
      "1\n",
      "(12,)\n"
     ]
    }
   ],
   "source": [
    "print(arr.ndim)\n",
    "print(arr.shape)"
   ]
  },
  {
   "cell_type": "code",
   "execution_count": 27,
   "id": "bf470b22-d57b-47b1-b534-a4f8d2a5be4d",
   "metadata": {},
   "outputs": [
    {
     "name": "stdout",
     "output_type": "stream",
     "text": [
      "<class 'numpy.ndarray'>\n"
     ]
    }
   ],
   "source": [
    "print(type(arr))"
   ]
  },
  {
   "cell_type": "code",
   "execution_count": null,
   "id": "2efd8a05-a140-4c1e-a45b-70612b3e04be",
   "metadata": {},
   "outputs": [],
   "source": []
  },
  {
   "cell_type": "code",
   "execution_count": 28,
   "id": "2b1c1351-5914-43cc-b476-72cc3cd7d105",
   "metadata": {},
   "outputs": [],
   "source": [
    "## array()"
   ]
  },
  {
   "cell_type": "code",
   "execution_count": 29,
   "id": "bbbc7924-7e98-4f7f-8ddf-5dab557ac46d",
   "metadata": {},
   "outputs": [],
   "source": [
    "arr = np.array([0, 1, 2, 3, 4, 5, 6, 7, 8, 9, 10, 11])"
   ]
  },
  {
   "cell_type": "code",
   "execution_count": 30,
   "id": "32c227fe-2d55-45fa-ab1f-3a9580abdf6b",
   "metadata": {},
   "outputs": [
    {
     "name": "stdout",
     "output_type": "stream",
     "text": [
      "[ 0  1  2  3  4  5  6  7  8  9 10 11]\n",
      "1\n",
      "(12,)\n",
      "<class 'numpy.ndarray'>\n"
     ]
    }
   ],
   "source": [
    "print(arr)\n",
    "print(arr.ndim)\n",
    "print(arr.shape)\n",
    "print(type(arr))"
   ]
  },
  {
   "cell_type": "code",
   "execution_count": null,
   "id": "0f86f13b-2c82-41da-9663-4ef0304edcd6",
   "metadata": {},
   "outputs": [],
   "source": []
  },
  {
   "cell_type": "code",
   "execution_count": 31,
   "id": "d4eced26-e0c8-45b1-a126-5247087416cc",
   "metadata": {},
   "outputs": [],
   "source": [
    "# 2차원 배열 생성"
   ]
  },
  {
   "cell_type": "code",
   "execution_count": 32,
   "id": "09609023-3066-4dd7-8914-09ea6e8f584a",
   "metadata": {},
   "outputs": [],
   "source": [
    "b = np.array([[1, 2, 3], [4, 5, 6]])"
   ]
  },
  {
   "cell_type": "code",
   "execution_count": 33,
   "id": "50297cc6-e2d2-41bb-8a34-44a20cb2bf75",
   "metadata": {},
   "outputs": [
    {
     "name": "stdout",
     "output_type": "stream",
     "text": [
      "(2, 3)\n"
     ]
    }
   ],
   "source": [
    "print(b.shape)"
   ]
  },
  {
   "cell_type": "code",
   "execution_count": 34,
   "id": "a4ba0e7a-5da8-49b8-bf22-4352db9ea692",
   "metadata": {},
   "outputs": [
    {
     "name": "stdout",
     "output_type": "stream",
     "text": [
      "1 2 4\n"
     ]
    }
   ],
   "source": [
    "print(b[0, 0], b[0, 1], b[1, 0])"
   ]
  },
  {
   "cell_type": "code",
   "execution_count": null,
   "id": "6875b118-7fdb-405c-bf50-7795a79567ab",
   "metadata": {},
   "outputs": [],
   "source": []
  },
  {
   "cell_type": "code",
   "execution_count": 35,
   "id": "4e52371a-8ac9-41cc-9f1e-162ac21d4e0b",
   "metadata": {},
   "outputs": [],
   "source": [
    "## zeros()"
   ]
  },
  {
   "cell_type": "code",
   "execution_count": 36,
   "id": "35a180fa-1cbc-4bd3-8bf2-6e5acf527653",
   "metadata": {},
   "outputs": [],
   "source": [
    "a = np.zeros((2, 2))"
   ]
  },
  {
   "cell_type": "code",
   "execution_count": 37,
   "id": "112be308-15d8-4220-8c05-682b8af3a492",
   "metadata": {},
   "outputs": [
    {
     "name": "stdout",
     "output_type": "stream",
     "text": [
      "[[0. 0.]\n",
      " [0. 0.]]\n"
     ]
    }
   ],
   "source": [
    "print(a)"
   ]
  },
  {
   "cell_type": "code",
   "execution_count": null,
   "id": "40a7c699-a16b-45ab-847b-3612b58e61a2",
   "metadata": {},
   "outputs": [],
   "source": []
  },
  {
   "cell_type": "code",
   "execution_count": 38,
   "id": "d9f6ad0b-bba8-4750-b6d3-2805121ca4c6",
   "metadata": {},
   "outputs": [],
   "source": [
    "## ones()"
   ]
  },
  {
   "cell_type": "code",
   "execution_count": 39,
   "id": "07b7bb89-a197-42a5-be53-46b99a86480b",
   "metadata": {},
   "outputs": [],
   "source": [
    "b = np.ones((1, 2))"
   ]
  },
  {
   "cell_type": "code",
   "execution_count": 40,
   "id": "dfad264c-98e2-4d6f-8ebe-24014787e520",
   "metadata": {},
   "outputs": [
    {
     "name": "stdout",
     "output_type": "stream",
     "text": [
      "[[1. 1.]]\n"
     ]
    }
   ],
   "source": [
    "print(b)"
   ]
  },
  {
   "cell_type": "code",
   "execution_count": null,
   "id": "4569d304-8b0d-4d98-95eb-40b82bfb7d37",
   "metadata": {},
   "outputs": [],
   "source": []
  },
  {
   "cell_type": "code",
   "execution_count": 41,
   "id": "6a5cdf55-fafa-4916-ad4f-04086a77f251",
   "metadata": {},
   "outputs": [],
   "source": [
    "## full()"
   ]
  },
  {
   "cell_type": "code",
   "execution_count": 42,
   "id": "f7506d23-cdec-450d-b369-cf3a31357c36",
   "metadata": {},
   "outputs": [],
   "source": [
    "c = np.full((2, 2), 7)"
   ]
  },
  {
   "cell_type": "code",
   "execution_count": 43,
   "id": "dd3f997c-303d-4358-8bdf-ab3c417273b1",
   "metadata": {},
   "outputs": [
    {
     "name": "stdout",
     "output_type": "stream",
     "text": [
      "[[7 7]\n",
      " [7 7]]\n"
     ]
    }
   ],
   "source": [
    "print(c)"
   ]
  },
  {
   "cell_type": "code",
   "execution_count": null,
   "id": "8f393a9b-3640-4338-a8fb-226671120a5c",
   "metadata": {},
   "outputs": [],
   "source": []
  },
  {
   "cell_type": "code",
   "execution_count": 46,
   "id": "ef20e60a-f34c-4dab-a212-72593722d113",
   "metadata": {},
   "outputs": [],
   "source": [
    "## eye() : identity 행렬 생성"
   ]
  },
  {
   "cell_type": "code",
   "execution_count": 47,
   "id": "244a79ce-f692-4ace-b6ad-b311960cb604",
   "metadata": {},
   "outputs": [],
   "source": [
    "d = np.eye(2)"
   ]
  },
  {
   "cell_type": "code",
   "execution_count": 48,
   "id": "2e34ff3a-2397-4df5-b5b3-10728221731d",
   "metadata": {},
   "outputs": [
    {
     "name": "stdout",
     "output_type": "stream",
     "text": [
      "[[1. 0.]\n",
      " [0. 1.]]\n"
     ]
    }
   ],
   "source": [
    "print(d)"
   ]
  },
  {
   "cell_type": "code",
   "execution_count": 49,
   "id": "0c3c4384-fda4-45c1-934c-d10b82c5c1ad",
   "metadata": {},
   "outputs": [],
   "source": [
    "d = np.eye(3)"
   ]
  },
  {
   "cell_type": "code",
   "execution_count": 50,
   "id": "1a02b1e6-bc6d-4fb3-9107-51e231f74134",
   "metadata": {},
   "outputs": [
    {
     "name": "stdout",
     "output_type": "stream",
     "text": [
      "[[1. 0. 0.]\n",
      " [0. 1. 0.]\n",
      " [0. 0. 1.]]\n"
     ]
    }
   ],
   "source": [
    "print(d)"
   ]
  },
  {
   "cell_type": "code",
   "execution_count": null,
   "id": "b8fb8a5d-e2f6-49e6-aed5-c0d3994d528b",
   "metadata": {},
   "outputs": [],
   "source": []
  },
  {
   "cell_type": "code",
   "execution_count": 51,
   "id": "a281e447-2352-40ef-86e7-cdbfcb699d3c",
   "metadata": {},
   "outputs": [],
   "source": [
    "## random.random() : 행렬 값들을 난수로 초기화"
   ]
  },
  {
   "cell_type": "code",
   "execution_count": 52,
   "id": "57409e66-a4ec-4533-8c61-d918b5fecd88",
   "metadata": {},
   "outputs": [],
   "source": [
    "e = np.random.random((2, 2))"
   ]
  },
  {
   "cell_type": "code",
   "execution_count": 53,
   "id": "85557fb5-5522-4d52-af12-a761e0cd210e",
   "metadata": {},
   "outputs": [
    {
     "name": "stdout",
     "output_type": "stream",
     "text": [
      "[[0.3864256  0.41572917]\n",
      " [0.13393137 0.13976851]]\n"
     ]
    }
   ],
   "source": [
    "print(e)"
   ]
  },
  {
   "cell_type": "code",
   "execution_count": null,
   "id": "a6e3a485-4a2e-4fc6-86ca-d0632dc573f1",
   "metadata": {},
   "outputs": [],
   "source": []
  },
  {
   "cell_type": "code",
   "execution_count": 88,
   "id": "e6fbb788-1cd1-489c-b472-1dc840d49eb0",
   "metadata": {},
   "outputs": [],
   "source": [
    "# 배열 모양 바꾸기"
   ]
  },
  {
   "cell_type": "code",
   "execution_count": null,
   "id": "0eb4bc0f-b94d-42be-8af1-927a78a26356",
   "metadata": {},
   "outputs": [],
   "source": []
  },
  {
   "cell_type": "code",
   "execution_count": 89,
   "id": "79db3ddb-445e-4d1b-a048-605165cbd83e",
   "metadata": {},
   "outputs": [],
   "source": [
    "## reshape()"
   ]
  },
  {
   "cell_type": "code",
   "execution_count": null,
   "id": "64219174-6430-42f6-81fb-9281c32cee4b",
   "metadata": {},
   "outputs": [],
   "source": []
  },
  {
   "cell_type": "code",
   "execution_count": 90,
   "id": "d38e8da6-36b9-4df3-8a31-d21d6136bfc3",
   "metadata": {},
   "outputs": [],
   "source": [
    "### - 1차원 배열을 2차원 배열로 모양 바꾸기"
   ]
  },
  {
   "cell_type": "code",
   "execution_count": 91,
   "id": "cb232a99-80d9-4da1-a7ac-95976065fc7f",
   "metadata": {},
   "outputs": [],
   "source": [
    "arr = arr.reshape(2, 6)"
   ]
  },
  {
   "cell_type": "code",
   "execution_count": 92,
   "id": "8ee17010-d391-41c6-8dd9-0aa30064708f",
   "metadata": {},
   "outputs": [
    {
     "name": "stdout",
     "output_type": "stream",
     "text": [
      "[[ 0  1  2  3  4  5]\n",
      " [ 6  7  8  9 10 11]]\n",
      "(2, 6)\n",
      "2\n"
     ]
    }
   ],
   "source": [
    "print(arr)\n",
    "print(arr.shape)\n",
    "print(arr.ndim)"
   ]
  },
  {
   "cell_type": "code",
   "execution_count": 93,
   "id": "eb27be0c-4beb-4a88-916d-580a9a7e6fec",
   "metadata": {},
   "outputs": [],
   "source": [
    "### - 2차원 배열의 축 다루기 : 0 - y, 1 - x"
   ]
  },
  {
   "cell_type": "code",
   "execution_count": 94,
   "id": "7b4871e9-5907-45b5-8db4-4a96dd4625d5",
   "metadata": {},
   "outputs": [
    {
     "name": "stdout",
     "output_type": "stream",
     "text": [
      "[ 6  8 10 12 14 16]\n"
     ]
    }
   ],
   "source": [
    "print(arr.sum(axis=0))"
   ]
  },
  {
   "cell_type": "code",
   "execution_count": 95,
   "id": "4fe590b3-8f9d-4484-a293-77994df47f7c",
   "metadata": {},
   "outputs": [
    {
     "name": "stdout",
     "output_type": "stream",
     "text": [
      "[15 51]\n"
     ]
    }
   ],
   "source": [
    "print(arr.sum(axis=1))"
   ]
  },
  {
   "cell_type": "code",
   "execution_count": null,
   "id": "7f60f389-3f1e-4283-9e00-fb9708a7ff42",
   "metadata": {},
   "outputs": [],
   "source": []
  },
  {
   "cell_type": "code",
   "execution_count": 104,
   "id": "777cd427-d29c-47eb-89f0-2f86ac3be09e",
   "metadata": {},
   "outputs": [],
   "source": [
    "### - 2차원 배열을 3차원 배열로 모양 바꾸기"
   ]
  },
  {
   "cell_type": "code",
   "execution_count": 105,
   "id": "43034f3c-06a4-4888-b678-62410093249d",
   "metadata": {},
   "outputs": [],
   "source": [
    "arr = arr.reshape(2, 2, 3)"
   ]
  },
  {
   "cell_type": "code",
   "execution_count": 106,
   "id": "72b66d46-315e-443d-933d-243aed0a9da3",
   "metadata": {},
   "outputs": [
    {
     "name": "stdout",
     "output_type": "stream",
     "text": [
      "[[[ 0  1  2]\n",
      "  [ 3  4  5]]\n",
      "\n",
      " [[ 6  7  8]\n",
      "  [ 9 10 11]]]\n",
      "(2, 2, 3)\n",
      "3\n"
     ]
    }
   ],
   "source": [
    "print(arr)\n",
    "print(arr.shape)\n",
    "print(arr.ndim)"
   ]
  },
  {
   "cell_type": "code",
   "execution_count": 107,
   "id": "6705cad1-0852-4b4a-82db-f86359dd74d7",
   "metadata": {},
   "outputs": [],
   "source": [
    "### - 3차원 배열의 축 다루기 : 0 - z, 1 - y, 2 - x"
   ]
  },
  {
   "cell_type": "code",
   "execution_count": 108,
   "id": "f5020251-da28-4892-b9f8-fbd38a5cb7b6",
   "metadata": {},
   "outputs": [
    {
     "name": "stdout",
     "output_type": "stream",
     "text": [
      "[[ 6  8 10]\n",
      " [12 14 16]]\n"
     ]
    }
   ],
   "source": [
    "print(arr.sum(axis=0))"
   ]
  },
  {
   "cell_type": "code",
   "execution_count": 109,
   "id": "3dae8687-63c9-4eeb-ae94-8683ebc9253a",
   "metadata": {},
   "outputs": [
    {
     "name": "stdout",
     "output_type": "stream",
     "text": [
      "[[ 3  5  7]\n",
      " [15 17 19]]\n"
     ]
    }
   ],
   "source": [
    "print(arr.sum(axis=1))"
   ]
  },
  {
   "cell_type": "code",
   "execution_count": 110,
   "id": "b7bee98c-ffef-4c96-95ca-5f5755f7cca2",
   "metadata": {},
   "outputs": [
    {
     "name": "stdout",
     "output_type": "stream",
     "text": [
      "[[ 3 12]\n",
      " [21 30]]\n"
     ]
    }
   ],
   "source": [
    "print(arr.sum(axis=2))"
   ]
  },
  {
   "cell_type": "code",
   "execution_count": null,
   "id": "4fec8cd9-1b1b-44e6-89c0-f5728ba26995",
   "metadata": {},
   "outputs": [],
   "source": []
  },
  {
   "cell_type": "code",
   "execution_count": 115,
   "id": "9d5e8201-e440-465c-b48c-39499dc890a5",
   "metadata": {},
   "outputs": [],
   "source": [
    "# 축 확장 -> 차원 확장"
   ]
  },
  {
   "cell_type": "code",
   "execution_count": 116,
   "id": "0097760e-5beb-4c46-bf19-e6d43fe07ea7",
   "metadata": {},
   "outputs": [],
   "source": [
    "x = np.array([1, 2])"
   ]
  },
  {
   "cell_type": "code",
   "execution_count": 117,
   "id": "4f7cd591-ad05-4456-8f09-e91b04893549",
   "metadata": {},
   "outputs": [
    {
     "name": "stdout",
     "output_type": "stream",
     "text": [
      "[1 2]\n"
     ]
    }
   ],
   "source": [
    "print(x)"
   ]
  },
  {
   "cell_type": "code",
   "execution_count": 118,
   "id": "e0275da4-16c1-490e-9c40-f8662b42b063",
   "metadata": {},
   "outputs": [
    {
     "name": "stdout",
     "output_type": "stream",
     "text": [
      "(2,)\n"
     ]
    }
   ],
   "source": [
    "print(x.shape)"
   ]
  },
  {
   "cell_type": "code",
   "execution_count": null,
   "id": "2391fdf8-17db-434d-983d-cf678162973e",
   "metadata": {},
   "outputs": [],
   "source": []
  },
  {
   "cell_type": "code",
   "execution_count": 121,
   "id": "90b5de74-72c6-46f3-b072-e8c5efb52015",
   "metadata": {},
   "outputs": [],
   "source": [
    "## expand_dims()"
   ]
  },
  {
   "cell_type": "code",
   "execution_count": 122,
   "id": "a2357bd2-ce53-4e4a-bddd-814d1482fbcf",
   "metadata": {},
   "outputs": [],
   "source": [
    "y = np.expand_dims(x, axis=0)"
   ]
  },
  {
   "cell_type": "code",
   "execution_count": 123,
   "id": "1d31e14b-1602-4fa0-9c41-555958b83454",
   "metadata": {},
   "outputs": [
    {
     "name": "stdout",
     "output_type": "stream",
     "text": [
      "[[1 2]]\n",
      "(1, 2)\n"
     ]
    }
   ],
   "source": [
    "print(y)\n",
    "print(y.shape)"
   ]
  },
  {
   "cell_type": "code",
   "execution_count": null,
   "id": "2438f1b3-48f8-4c0a-b16b-7337b33bb0ce",
   "metadata": {},
   "outputs": [],
   "source": []
  },
  {
   "cell_type": "code",
   "execution_count": 128,
   "id": "efb6d05f-d1fb-40c3-9bb9-ca0a78b99679",
   "metadata": {},
   "outputs": [],
   "source": [
    "y = np.expand_dims([1, 2], axis=1)"
   ]
  },
  {
   "cell_type": "code",
   "execution_count": 129,
   "id": "d0244325-8b0b-4670-ad47-b0e9ff82beea",
   "metadata": {},
   "outputs": [
    {
     "name": "stdout",
     "output_type": "stream",
     "text": [
      "[[1]\n",
      " [2]]\n",
      "(2, 1)\n"
     ]
    }
   ],
   "source": [
    "print(y)\n",
    "print(y.shape)"
   ]
  },
  {
   "cell_type": "code",
   "execution_count": 131,
   "id": "71790ccc-76e9-456e-a653-dd77f5252fa7",
   "metadata": {},
   "outputs": [],
   "source": [
    "y = np.expand_dims(y, axis=2)"
   ]
  },
  {
   "cell_type": "code",
   "execution_count": 132,
   "id": "a545dc71-9e45-4c88-805e-b175b8d5b37d",
   "metadata": {},
   "outputs": [
    {
     "name": "stdout",
     "output_type": "stream",
     "text": [
      "[[[1]]\n",
      "\n",
      " [[2]]]\n",
      "(2, 1, 1)\n"
     ]
    }
   ],
   "source": [
    "print(y)\n",
    "print(y.shape)"
   ]
  },
  {
   "cell_type": "code",
   "execution_count": null,
   "id": "e30ae06f-8200-4e2d-b635-beca394d733a",
   "metadata": {},
   "outputs": [],
   "source": []
  },
  {
   "cell_type": "code",
   "execution_count": 133,
   "id": "54fc5756-e221-4723-ada1-c05452c45649",
   "metadata": {},
   "outputs": [],
   "source": [
    "# *** 요약 ***"
   ]
  },
  {
   "cell_type": "code",
   "execution_count": 134,
   "id": "1c594229-662c-4323-beae-617b85ba5647",
   "metadata": {},
   "outputs": [],
   "source": [
    "## axis=0 : [ 안으로 들어가지 않고 외부에 [ 추가 "
   ]
  },
  {
   "cell_type": "code",
   "execution_count": 135,
   "id": "e0c361df-8c3d-41e3-8a64-e2d81b513c33",
   "metadata": {},
   "outputs": [],
   "source": [
    "## axis=1 : [ 안으로 한번 들어가서 [ 추가"
   ]
  },
  {
   "cell_type": "code",
   "execution_count": 136,
   "id": "89678c62-987d-491a-ac74-e6b7dd69336c",
   "metadata": {},
   "outputs": [],
   "source": [
    "## axis=2 : [ 안으로 두번 들어가서 [ 추가"
   ]
  },
  {
   "cell_type": "code",
   "execution_count": null,
   "id": "b33a41de-cca3-46bd-b088-f52fce1ac11d",
   "metadata": {},
   "outputs": [],
   "source": [
    "..."
   ]
  }
 ],
 "metadata": {
  "kernelspec": {
   "display_name": "Python 3 (ipykernel)",
   "language": "python",
   "name": "python3"
  },
  "language_info": {
   "codemirror_mode": {
    "name": "ipython",
    "version": 3
   },
   "file_extension": ".py",
   "mimetype": "text/x-python",
   "name": "python",
   "nbconvert_exporter": "python",
   "pygments_lexer": "ipython3",
   "version": "3.11.4"
  }
 },
 "nbformat": 4,
 "nbformat_minor": 5
}
